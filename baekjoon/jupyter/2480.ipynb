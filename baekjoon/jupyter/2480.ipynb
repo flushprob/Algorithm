{
 "cells": [
  {
   "cell_type": "code",
   "execution_count": 13,
   "metadata": {},
   "outputs": [
    {
     "name": "stdout",
     "output_type": "stream",
     "text": [
      "500\n"
     ]
    }
   ],
   "source": [
    "# Baek https://www.acmicpc.net/problem/2480\n",
    "\n",
    "a, b, c = sorted(map(int, input().split()))\n",
    "\n",
    "if a == b == c:\n",
    "    print(10000+ a * 1000)\n",
    "elif a == b:\n",
    "    print(1000 + a * 100)\n",
    "elif a == c:\n",
    "    print(1000 + a * 100)\n",
    "elif b == c:\n",
    "    print(1000 + b* 100)\n",
    "else:\n",
    "    print(c * 100)\n",
    "\n",
    "# def reward(a, b, c):\n",
    "#     if a == b and b == c:\n",
    "#         return 10000+ a * 1000\n",
    "#     elif a == b or b == c or a == c:\n",
    "#         return 1000 + a * 100\n",
    "#     elif a !=b and b != c and a != c:\n",
    "#         return max( [a, b, c])*100\n",
    "\n",
    "# print(reward(a, b, c))\n",
    "    \n"
   ]
  },
  {
   "cell_type": "code",
   "execution_count": null,
   "metadata": {},
   "outputs": [],
   "source": []
  }
 ],
 "metadata": {
  "interpreter": {
   "hash": "aee8b7b246df8f9039afb4144a1f6fd8d2ca17a180786b69acc140d282b71a49"
  },
  "kernelspec": {
   "display_name": "Python 3.10.4 64-bit",
   "language": "python",
   "name": "python3"
  },
  "language_info": {
   "codemirror_mode": {
    "name": "ipython",
    "version": 3
   },
   "file_extension": ".py",
   "mimetype": "text/x-python",
   "name": "python",
   "nbconvert_exporter": "python",
   "pygments_lexer": "ipython3",
   "version": "3.10.4"
  },
  "orig_nbformat": 4
 },
 "nbformat": 4,
 "nbformat_minor": 2
}
